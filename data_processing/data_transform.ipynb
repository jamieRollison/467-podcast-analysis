{
 "cells": [
  {
   "cell_type": "code",
   "execution_count": null,
   "metadata": {},
   "outputs": [],
   "source": [
    "%pip install librosa"
   ]
  },
  {
   "cell_type": "code",
   "execution_count": 7,
   "metadata": {},
   "outputs": [],
   "source": [
    "import pandas as pd\n",
    "import librosa\n",
    "import numpy as np\n",
    "import os"
   ]
  },
  {
   "cell_type": "code",
   "execution_count": 9,
   "metadata": {},
   "outputs": [
    {
     "name": "stdout",
     "output_type": "stream",
     "text": [
      "started gaming\n"
     ]
    },
    {
     "name": "stderr",
     "output_type": "stream",
     "text": [
      "/var/folders/pw/_mnnd_wx7_qb32qhrnpgm8ww0000gn/T/ipykernel_80643/2235220494.py:28: RuntimeWarning: Mean of empty slice\n",
      "  column_averages = np.nanmean(\n"
     ]
    },
    {
     "name": "stdout",
     "output_type": "stream",
     "text": [
      "started true_crime\n",
      "started business\n",
      "started science\n",
      "started self_help\n",
      "started comedy\n",
      "started sports\n"
     ]
    }
   ],
   "source": [
    "genres = [\n",
    "    \"gaming\",\n",
    "    \"true_crime\",\n",
    "    \"business\",\n",
    "    \"science\",\n",
    "    \"self_help\",\n",
    "    \"comedy\",\n",
    "    \"sports\",\n",
    "]\n",
    "\n",
    "n_samples = 51\n",
    "data = np.zeros((35, 2 + 2*n_samples), dtype=object)\n",
    "data_idx = 0\n",
    "\n",
    "for genre in genres:\n",
    "    file_names = os.listdir(\"../data/\" + genre + \"/\")\n",
    "    print(f\"started {genre}\")\n",
    "\n",
    "    for file_name in file_names:\n",
    "        y, sr = librosa.load(\"../data/\" + genre + \"/\" + file_name)\n",
    "        pitches, _ = librosa.piptrack(y=y, sr=sr)\n",
    "\n",
    "        data[data_idx, 0] = genre\n",
    "        data[data_idx, 1] = file_name\n",
    "\n",
    "        nonzero_mask = pitches != 0\n",
    "        # average the pitches over time\n",
    "        column_averages = np.nanmean(\n",
    "            np.where(nonzero_mask, pitches, np.nan), axis=0\n",
    "        )\n",
    "        pitches_processed = np.nan_to_num(column_averages, nan=0)\n",
    "\n",
    "        # grab the pitches at 0, 5, 10, ..., 100 percent\n",
    "        final_pitches = []\n",
    "        n = len(pitches_processed) - 1\n",
    "        for idx in np.linspace(0, len(pitches_processed)-1, num=n_samples, endpoint=True, dtype=int):\n",
    "            # data is in the form [pitch, percent] where percent is the time in the audio\n",
    "            final_pitches.append(pitches_processed[idx])\n",
    "\n",
    "        # file.write(genre + \", \" + file_name + \", \" + str(final_pitches) + \"\\n\")\n",
    "\n",
    "        final_pitches = np.array(final_pitches)\n",
    "        data[data_idx, 2:2+n_samples] = final_pitches\n",
    "\n",
    "        volume = librosa.feature.rms(y=y)\n",
    "\n",
    "        # grab the volumes at 0, 5, 10, ..., 100 percent\n",
    "        final_volumes = []\n",
    "        n = volume.shape[1] - 1\n",
    "        for idx in np.linspace(0, n, num=n_samples, endpoint=True, dtype=int):\n",
    "            # data is in the form [volume, percent] where percent is the time in the audio\n",
    "            final_volumes.append(np.sqrt(volume[0][idx]))\n",
    "\n",
    "        # file.write(genre + \", \" + file_name + \", \" + str(final_volumes) + \"\\n\")\n",
    "        final_volumes = np.array(final_volumes)\n",
    "        data[data_idx, 2+n_samples:] = final_volumes\n",
    "\n",
    "        data_idx += 1\n",
    "        # totals += final_volumes[:]"
   ]
  },
  {
   "cell_type": "code",
   "execution_count": null,
   "metadata": {},
   "outputs": [],
   "source": [
    "def calc_volume(file):\n",
    "    genres = [\n",
    "        \"gaming\",\n",
    "        \"true_crime\",\n",
    "        \"business\",\n",
    "        \"science\",\n",
    "        \"self_help\",\n",
    "        \"comedy\",\n",
    "        \"sports\",\n",
    "    ]\n",
    "\n",
    "    for genre in genres:\n",
    "        file_names = os.listdir(\"data/\" + genre + \"/\")\n",
    "        totals = np.zeros(21)\n",
    "\n",
    "        for file_name in file_names:\n",
    "            y, _ = librosa.load(\"data/\" + genre + \"/\" + file_name)\n",
    "            volume = librosa.feature.rms(y=y)\n",
    "\n",
    "            # grab the volumes at 0, 5, 10, ..., 100 percent\n",
    "            final_volumes = []\n",
    "            n = volume.shape[1] - 1\n",
    "            for percent in np.linspace():\n",
    "                ind = int(np.floor(n * (percent / 100)))\n",
    "                # data is in the form [volume, percent] where percent is the time in the audio\n",
    "                final_volumes.append(np.sqrt(volume[0][ind]))\n",
    "\n",
    "            file.write(genre + \", \" + file_name + \", \" + str(final_volumes) + \"\\n\")\n",
    "\n",
    "            final_volumes = np.array(final_volumes)\n",
    "            totals += final_volumes[:]\n",
    "\n",
    "        # calculate the average volume for the current genre\n",
    "        totals = totals / 5\n",
    "        i = 0\n",
    "        averages_percents = []\n",
    "        for percent in range(0, 105, 5):\n",
    "            averages_percents.append(totals[i])\n",
    "            i += 1\n",
    "\n",
    "    return"
   ]
  },
  {
   "cell_type": "code",
   "execution_count": 10,
   "metadata": {},
   "outputs": [],
   "source": [
    "columns = ['genre', 'name']\n",
    "for metric in ['pitch', 'volume']:\n",
    "  for p in range(n_samples):\n",
    "    columns.append(f\"{metric} - {p}\")\n",
    "\n",
    "# assert len(columns) == 44"
   ]
  },
  {
   "cell_type": "code",
   "execution_count": null,
   "metadata": {},
   "outputs": [],
   "source": []
  },
  {
   "cell_type": "code",
   "execution_count": 11,
   "metadata": {},
   "outputs": [
    {
     "name": "stdout",
     "output_type": "stream",
     "text": [
      "['pitch - 0', 'pitch - 1', 'pitch - 2', 'pitch - 3', 'pitch - 4', 'pitch - 5', 'pitch - 6', 'pitch - 7', 'pitch - 8', 'pitch - 9', 'pitch - 10', 'pitch - 11', 'pitch - 12', 'pitch - 13', 'pitch - 14', 'pitch - 15', 'pitch - 16', 'pitch - 17', 'pitch - 18', 'pitch - 19', 'pitch - 20', 'pitch - 21', 'pitch - 22', 'pitch - 23', 'pitch - 24', 'pitch - 25', 'pitch - 26', 'pitch - 27', 'pitch - 28', 'pitch - 29', 'pitch - 30', 'pitch - 31', 'pitch - 32', 'pitch - 33', 'pitch - 34', 'pitch - 35', 'pitch - 36', 'pitch - 37', 'pitch - 38', 'pitch - 39', 'pitch - 40', 'pitch - 41', 'pitch - 42', 'pitch - 43', 'pitch - 44', 'pitch - 45', 'pitch - 46', 'pitch - 47', 'pitch - 48', 'pitch - 49', 'pitch - 50']\n"
     ]
    }
   ],
   "source": [
    "pitch_cols = [f\"pitch - {p}\" for p in range(n_samples)]\n",
    "vol_cols = [f\"volume - {p}\" for p in range(n_samples)]\n",
    "print(pitch_cols)"
   ]
  },
  {
   "cell_type": "code",
   "execution_count": null,
   "metadata": {},
   "outputs": [],
   "source": []
  },
  {
   "cell_type": "code",
   "execution_count": null,
   "metadata": {},
   "outputs": [],
   "source": []
  },
  {
   "cell_type": "code",
   "execution_count": 12,
   "metadata": {},
   "outputs": [
    {
     "name": "stderr",
     "output_type": "stream",
     "text": [
      "/var/folders/pw/_mnnd_wx7_qb32qhrnpgm8ww0000gn/T/ipykernel_80643/2022912262.py:9: FutureWarning: The default value of numeric_only in DataFrame.mean is deprecated. In a future version, it will default to False. In addition, specifying 'numeric_only=None' is deprecated. Select only valid columns or specify the value of numeric_only to silence this warning.\n",
      "  pitch_data[pitch_data[\"genre\"] == genre].mean(numeric_only=None).to_list()\n",
      "/var/folders/pw/_mnnd_wx7_qb32qhrnpgm8ww0000gn/T/ipykernel_80643/2022912262.py:12: FutureWarning: The default value of numeric_only in DataFrame.mean is deprecated. In a future version, it will default to False. In addition, specifying 'numeric_only=None' is deprecated. Select only valid columns or specify the value of numeric_only to silence this warning.\n",
      "  vol_data[vol_data[\"genre\"] == genre].mean(numeric_only=None).to_list()\n",
      "/var/folders/pw/_mnnd_wx7_qb32qhrnpgm8ww0000gn/T/ipykernel_80643/2022912262.py:9: FutureWarning: The default value of numeric_only in DataFrame.mean is deprecated. In a future version, it will default to False. In addition, specifying 'numeric_only=None' is deprecated. Select only valid columns or specify the value of numeric_only to silence this warning.\n",
      "  pitch_data[pitch_data[\"genre\"] == genre].mean(numeric_only=None).to_list()\n",
      "/var/folders/pw/_mnnd_wx7_qb32qhrnpgm8ww0000gn/T/ipykernel_80643/2022912262.py:12: FutureWarning: The default value of numeric_only in DataFrame.mean is deprecated. In a future version, it will default to False. In addition, specifying 'numeric_only=None' is deprecated. Select only valid columns or specify the value of numeric_only to silence this warning.\n",
      "  vol_data[vol_data[\"genre\"] == genre].mean(numeric_only=None).to_list()\n",
      "/var/folders/pw/_mnnd_wx7_qb32qhrnpgm8ww0000gn/T/ipykernel_80643/2022912262.py:9: FutureWarning: The default value of numeric_only in DataFrame.mean is deprecated. In a future version, it will default to False. In addition, specifying 'numeric_only=None' is deprecated. Select only valid columns or specify the value of numeric_only to silence this warning.\n",
      "  pitch_data[pitch_data[\"genre\"] == genre].mean(numeric_only=None).to_list()\n",
      "/var/folders/pw/_mnnd_wx7_qb32qhrnpgm8ww0000gn/T/ipykernel_80643/2022912262.py:12: FutureWarning: The default value of numeric_only in DataFrame.mean is deprecated. In a future version, it will default to False. In addition, specifying 'numeric_only=None' is deprecated. Select only valid columns or specify the value of numeric_only to silence this warning.\n",
      "  vol_data[vol_data[\"genre\"] == genre].mean(numeric_only=None).to_list()\n",
      "/var/folders/pw/_mnnd_wx7_qb32qhrnpgm8ww0000gn/T/ipykernel_80643/2022912262.py:9: FutureWarning: The default value of numeric_only in DataFrame.mean is deprecated. In a future version, it will default to False. In addition, specifying 'numeric_only=None' is deprecated. Select only valid columns or specify the value of numeric_only to silence this warning.\n",
      "  pitch_data[pitch_data[\"genre\"] == genre].mean(numeric_only=None).to_list()\n",
      "/var/folders/pw/_mnnd_wx7_qb32qhrnpgm8ww0000gn/T/ipykernel_80643/2022912262.py:12: FutureWarning: The default value of numeric_only in DataFrame.mean is deprecated. In a future version, it will default to False. In addition, specifying 'numeric_only=None' is deprecated. Select only valid columns or specify the value of numeric_only to silence this warning.\n",
      "  vol_data[vol_data[\"genre\"] == genre].mean(numeric_only=None).to_list()\n",
      "/var/folders/pw/_mnnd_wx7_qb32qhrnpgm8ww0000gn/T/ipykernel_80643/2022912262.py:9: FutureWarning: The default value of numeric_only in DataFrame.mean is deprecated. In a future version, it will default to False. In addition, specifying 'numeric_only=None' is deprecated. Select only valid columns or specify the value of numeric_only to silence this warning.\n",
      "  pitch_data[pitch_data[\"genre\"] == genre].mean(numeric_only=None).to_list()\n",
      "/var/folders/pw/_mnnd_wx7_qb32qhrnpgm8ww0000gn/T/ipykernel_80643/2022912262.py:12: FutureWarning: The default value of numeric_only in DataFrame.mean is deprecated. In a future version, it will default to False. In addition, specifying 'numeric_only=None' is deprecated. Select only valid columns or specify the value of numeric_only to silence this warning.\n",
      "  vol_data[vol_data[\"genre\"] == genre].mean(numeric_only=None).to_list()\n",
      "/var/folders/pw/_mnnd_wx7_qb32qhrnpgm8ww0000gn/T/ipykernel_80643/2022912262.py:9: FutureWarning: The default value of numeric_only in DataFrame.mean is deprecated. In a future version, it will default to False. In addition, specifying 'numeric_only=None' is deprecated. Select only valid columns or specify the value of numeric_only to silence this warning.\n",
      "  pitch_data[pitch_data[\"genre\"] == genre].mean(numeric_only=None).to_list()\n",
      "/var/folders/pw/_mnnd_wx7_qb32qhrnpgm8ww0000gn/T/ipykernel_80643/2022912262.py:12: FutureWarning: The default value of numeric_only in DataFrame.mean is deprecated. In a future version, it will default to False. In addition, specifying 'numeric_only=None' is deprecated. Select only valid columns or specify the value of numeric_only to silence this warning.\n",
      "  vol_data[vol_data[\"genre\"] == genre].mean(numeric_only=None).to_list()\n",
      "/var/folders/pw/_mnnd_wx7_qb32qhrnpgm8ww0000gn/T/ipykernel_80643/2022912262.py:9: FutureWarning: The default value of numeric_only in DataFrame.mean is deprecated. In a future version, it will default to False. In addition, specifying 'numeric_only=None' is deprecated. Select only valid columns or specify the value of numeric_only to silence this warning.\n",
      "  pitch_data[pitch_data[\"genre\"] == genre].mean(numeric_only=None).to_list()\n",
      "/var/folders/pw/_mnnd_wx7_qb32qhrnpgm8ww0000gn/T/ipykernel_80643/2022912262.py:12: FutureWarning: The default value of numeric_only in DataFrame.mean is deprecated. In a future version, it will default to False. In addition, specifying 'numeric_only=None' is deprecated. Select only valid columns or specify the value of numeric_only to silence this warning.\n",
      "  vol_data[vol_data[\"genre\"] == genre].mean(numeric_only=None).to_list()\n"
     ]
    }
   ],
   "source": [
    "import json\n",
    "df = pd.DataFrame(data, columns=columns)\n",
    "pitch_data = df.drop(columns=vol_cols)\n",
    "vol_data = df.drop(columns=pitch_cols)\n",
    "genre_pitch = {}\n",
    "genre_volume = {}\n",
    "for genre in genres:\n",
    "    genre_pitch[genre] = (\n",
    "        pitch_data[pitch_data[\"genre\"] == genre].mean(numeric_only=None).to_list()\n",
    "    )\n",
    "    genre_volume[genre] = (\n",
    "        vol_data[vol_data[\"genre\"] == genre].mean(numeric_only=None).to_list()\n",
    "    )"
   ]
  },
  {
   "cell_type": "code",
   "execution_count": null,
   "metadata": {},
   "outputs": [],
   "source": [
    "pitch_data.mean()"
   ]
  },
  {
   "cell_type": "code",
   "execution_count": null,
   "metadata": {},
   "outputs": [],
   "source": [
    "vol_data.mean()"
   ]
  },
  {
   "cell_type": "code",
   "execution_count": null,
   "metadata": {},
   "outputs": [],
   "source": [
    "all_data_tree = {}\n",
    "for genre in genres:\n",
    "    this_genre = {}\n",
    "    for idx, row in df[df['genre'] == genre].iterrows():\n",
    "        this_genre[row['name']] = {}\n",
    "        this_genre[row[\"name\"]]['pitch'] = row[pitch_cols].to_list()\n",
    "        this_genre[row[\"name\"]]['volume'] = row[vol_cols].to_list()\n",
    "    all_data_tree[genre] = this_genre"
   ]
  },
  {
   "cell_type": "code",
   "execution_count": null,
   "metadata": {},
   "outputs": [],
   "source": [
    "with open(\"./processed_data/aggregate.json\", \"w\") as file:\n",
    "  json.dump(all_data_tree, file)"
   ]
  },
  {
   "cell_type": "code",
   "execution_count": null,
   "metadata": {},
   "outputs": [],
   "source": [
    "averages = {\"pitch\": genre_pitch, \"volume\": genre_volume}\n",
    "with open(\"./processed_data/averages.json\", \"w\") as file:\n",
    "    json.dump(averages, file)"
   ]
  },
  {
   "cell_type": "code",
   "execution_count": null,
   "metadata": {},
   "outputs": [],
   "source": [
    "df[pitch_cols].max(axis=None).min()"
   ]
  },
  {
   "cell_type": "code",
   "execution_count": null,
   "metadata": {},
   "outputs": [],
   "source": [
    "y, sr = librosa.load(\"data/gaming/The Beginning Begins (Ep. 1) ｜ Fantasy High.mp3\")\n",
    "pitches, _ = librosa.piptrack(y=y, sr=sr)\n"
   ]
  },
  {
   "cell_type": "code",
   "execution_count": null,
   "metadata": {},
   "outputs": [],
   "source": [
    "nonzero_mask = pitches != 0\n",
    "        # average the pitches over time\n",
    "column_averages = np.nanmean(\n",
    "    np.where(nonzero_mask, pitches, np.nan), axis=0\n",
    ")\n",
    "pitches_processed = np.nan_to_num(column_averages, nan=0)\n",
    "\n",
    "print(pitches_processed.shape)"
   ]
  },
  {
   "cell_type": "code",
   "execution_count": null,
   "metadata": {},
   "outputs": [],
   "source": [
    "all_data_tree"
   ]
  },
  {
   "cell_type": "code",
   "execution_count": 31,
   "metadata": {},
   "outputs": [],
   "source": [
    "pretty = {\n",
    "    \"gaming\": \"Gaming\",\n",
    "    \"true_crime\": \"True Crime\",\n",
    "    \"business\": \"Business\",\n",
    "    \"science\": \"Science\",\n",
    "    \"self_help\": \"Self Help\",\n",
    "    \"comedy\": \"Comedy\",\n",
    "    \"sports\": \"Sports\",\n",
    "}\n",
    "\n",
    "# avg_data_rep_2 = {\"pitch\": [], \"volume\": []}\n",
    "# for i in range(n_samples):\n",
    "#     pitches = {\n",
    "#         \"idx\": np.round(i / (n_samples-1) * 100),\n",
    "#     }\n",
    "#     volumes = {\n",
    "#         \"idx\": np.round(i / (n_samples-1) * 100),\n",
    "#     }\n",
    "#     volumes.update({f\"{pretty[genre]}\": genre_volume[genre][i] for genre in genres})\n",
    "#     pitches.update({f\"{pretty[genre]}\": genre_pitch[genre][i] for genre in genres})\n",
    "#     avg_data_rep_2[\"pitch\"].append(pitches)\n",
    "#     avg_data_rep_2[\"volume\"].append(volumes)\n",
    "\n",
    "# print(avg_data_rep_2[\"volume\"])"
   ]
  },
  {
   "cell_type": "code",
   "execution_count": null,
   "metadata": {},
   "outputs": [],
   "source": [
    "avg_data_rep_2[5]"
   ]
  },
  {
   "cell_type": "code",
   "execution_count": null,
   "metadata": {},
   "outputs": [],
   "source": [
    "genre_pitch = {}\n",
    "genre_volume = {}\n",
    "for genre in genres:\n",
    "    genre_pitch[genre] = (\n",
    "        pitch_data[pitch_data[\"genre\"] == genre].mean(numeric_only=None).to_list()\n",
    "    )\n",
    "    genre_volume[genre] = (\n",
    "        vol_data[vol_data[\"genre\"] == genre].mean(numeric_only=None).to_list()\n",
    "    )"
   ]
  },
  {
   "cell_type": "code",
   "execution_count": null,
   "metadata": {},
   "outputs": [],
   "source": [
    "all_data = {}\n",
    "for genre in genres:\n",
    "    relevant = df[df['genre'] == genre]\n",
    "    genre_data = {\"pitch\": [], \"volume\": []}\n",
    "    for i in range(n_samples):\n",
    "        pitches = {\n",
    "          \"idx\": np.round(i / (n_samples - 1) * 100),\n",
    "      }\n",
    "        volumes = {\n",
    "          \"idx\": np.round(i / (n_samples - 1) * 100),\n",
    "      }\n",
    "        volumes.update(\n",
    "            {ep[\"name\"][0:-4]: ep[f\"volume - {i}\"] for _, ep in relevant.iterrows()}\n",
    "        )\n",
    "        pitches.update(\n",
    "            {ep[\"name\"][0:-4]: ep[f\"pitch - {i}\"] for _, ep in relevant.iterrows()}\n",
    "        )\n",
    "        genre_data[\"pitch\"].append(pitches)\n",
    "        genre_data[\"volume\"].append(volumes)\n",
    "    all_data[genre] = genre_data\n",
    "\n",
    "print(all_data)"
   ]
  },
  {
   "cell_type": "code",
   "execution_count": null,
   "metadata": {},
   "outputs": [],
   "source": [
    "with open(\"./src/data/all_data_lists.json\", \"w\") as f:\n",
    "    json.dump(all_data, f)"
   ]
  },
  {
   "cell_type": "code",
   "execution_count": null,
   "metadata": {},
   "outputs": [],
   "source": [
    "with open(\"./src/data/averages_list.json\", \"w\") as f:\n",
    "  json.dump(avg_data_rep_2, f) "
   ]
  },
  {
   "cell_type": "code",
   "execution_count": null,
   "metadata": {},
   "outputs": [],
   "source": [
    "name_map = {}\n",
    "for genre in genres:\n",
    "    name_map[genre] = [name[0:-4] for name in df[df[\"genre\"] == genre]['name'].to_list()]\n",
    "\n",
    "with open(\"./src/data/name_lists.json\", \"w\") as f:\n",
    "    json.dump(name_map, f)"
   ]
  },
  {
   "cell_type": "code",
   "execution_count": null,
   "metadata": {},
   "outputs": [],
   "source": [
    "all_data"
   ]
  },
  {
   "cell_type": "code",
   "execution_count": null,
   "metadata": {},
   "outputs": [],
   "source": []
  },
  {
   "cell_type": "code",
   "execution_count": null,
   "metadata": {},
   "outputs": [],
   "source": []
  },
  {
   "cell_type": "code",
   "execution_count": 32,
   "metadata": {},
   "outputs": [
    {
     "name": "stdout",
     "output_type": "stream",
     "text": [
      "genre\n",
      "business       737.726053\n",
      "comedy        1085.500291\n",
      "gaming        1127.886959\n",
      "science       1027.431276\n",
      "self_help      836.173850\n",
      "sports        1018.376277\n",
      "true_crime     844.301060\n",
      "dtype: float64\n",
      "{'business': 0.22671536625010258, 'comedy': 0.24662683042116854, 'gaming': 0.21597508707259183, 'science': 0.2122420282596174, 'self_help': 0.23693260459923268, 'sports': 0.2532266702525792, 'true_crime': 0.2271666572176906}\n",
      "[{'genre': 'Gaming', 'pitch': 1127.886959479837, 'volume': 0.21597508707259183}, {'genre': 'True Crime', 'pitch': 844.3010600968904, 'volume': 0.2271666572176906}, {'genre': 'Business', 'pitch': 737.7260532154756, 'volume': 0.22671536625010258}, {'genre': 'Science', 'pitch': 1027.4312762690524, 'volume': 0.2122420282596174}, {'genre': 'Self Help', 'pitch': 836.1738501455269, 'volume': 0.23693260459923268}, {'genre': 'Comedy', 'pitch': 1085.5002911137603, 'volume': 0.24662683042116854}, {'genre': 'Sports', 'pitch': 1018.3762768913718, 'volume': 0.2532266702525792}]\n"
     ]
    }
   ],
   "source": [
    "average_pitch = df.groupby('genre')[pitch_cols].mean().mean(axis=1)\n",
    "print(average_pitch)\n",
    "\n",
    "avg_vol = df.groupby(\"genre\")[vol_cols].mean().mean(axis=1)\n",
    "print(avg_vol.to_dict())\n",
    "\n",
    "averages = []\n",
    "for genre in genres:\n",
    "  averages.append({\n",
    "    \"genre\": pretty[genre],\n",
    "    \"pitch\": average_pitch.to_dict()[genre],\n",
    "    \"volume\": avg_vol.to_dict()[genre]\n",
    "  })\n",
    "\n",
    "print(averages)\n",
    "\n",
    "with open(\"../src/data/avg_over_time.json\", \"w\") as f:\n",
    "  json.dump(averages,f)"
   ]
  },
  {
   "cell_type": "code",
   "execution_count": null,
   "metadata": {},
   "outputs": [],
   "source": []
  }
 ],
 "metadata": {
  "kernelspec": {
   "display_name": "base",
   "language": "python",
   "name": "python3"
  },
  "language_info": {
   "codemirror_mode": {
    "name": "ipython",
    "version": 3
   },
   "file_extension": ".py",
   "mimetype": "text/x-python",
   "name": "python",
   "nbconvert_exporter": "python",
   "pygments_lexer": "ipython3",
   "version": "3.11.4"
  }
 },
 "nbformat": 4,
 "nbformat_minor": 2
}

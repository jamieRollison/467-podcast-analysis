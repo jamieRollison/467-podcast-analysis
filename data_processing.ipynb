{
 "cells": [
  {
   "cell_type": "code",
   "execution_count": 2,
   "metadata": {},
   "outputs": [
    {
     "name": "stdout",
     "output_type": "stream",
     "text": [
      "Requirement already satisfied: youtube-dl in /opt/homebrew/anaconda3/lib/python3.11/site-packages (2021.12.17)\n",
      "Note: you may need to restart the kernel to use updated packages.\n"
     ]
    }
   ],
   "source": [
    "%pip install youtube-dl"
   ]
  },
  {
   "cell_type": "code",
   "execution_count": null,
   "metadata": {},
   "outputs": [],
   "source": [
    "# formatting data like this for now so i can just through youtube videos in here.\n",
    "# feel free to change im just lazy\n",
    "data = {}\n",
    "\n",
    "\n",
    "data.update(\n",
    "    {\n",
    "        \"gaming\": [\n",
    "            \"https://www.youtube.com/watch?v=V5sK5QW6FbE\",\n",
    "            \"https://www.youtube.com/watch?v=P8pLvV3FjPc\",\n",
    "            \"https://www.youtube.com/watch?v=Ey9WQS7ZOI4\",\n",
    "            \"https://www.youtube.com/watch?v=_zZxCVBi7-k\",\n",
    "            \"https://www.youtube.com/watch?v=GdrJNCqBKk8\",\n",
    "        ],\n",
    "        \"true crime\": [\n",
    "            \"https://www.youtube.com/watch?v=F3sIDvFh3Os\",\n",
    "            \"https://www.youtube.com/watch?v=nvkIMK67nb0&t=12s\",\n",
    "            \"https://www.youtube.com/watch?v=VA3PIjVrOMs\",\n",
    "            \"https://www.youtube.com/watch?v=GlamHVy4jss\",\n",
    "            \"https://www.youtube.com/watch?v=W2Z-a0aw4XU\"\n",
    "        ],\n",
    "        \"business\": [\n",
    "            \"https://www.youtube.com/watch?v=hCW2NHbWNwA\",\n",
    "            \"https://www.youtube.com/watch?v=HUYp5Gkomng&t=33s\",\n",
    "            \"https://www.youtube.com/watch?v=SFImFiRM97I\",\n",
    "            \"https://www.youtube.com/watch?v=xQqsvRHjas4\",\n",
    "            \"https://www.youtube.com/watch?v=E6LbwCKJ0lo\"\n",
    "        ],\n",
             \"self-help/health\": [\n",
    "            \"https://www.youtube.com/watch?v=tLRCS48Ens4\",\n",
    "            \"https://www.youtube.com/watch?v=mPQBcb9wf8Q\",\n",
    "            \"https://www.youtube.com/watch?v=Ob7aNSFB2BE\",\n",
    "            \"https://www.youtube.com/watch?v=qv7X4kDrK1E\",\n",
    "            \"https://www.youtube.com/watch?v=vJAD4QXwLhQ\"\n",
             ]\n",
    "    }\n",
    ")"
   ]
  }
 ],
 "metadata": {
  "kernelspec": {
   "display_name": "base",
   "language": "python",
   "name": "python3"
  },
  "language_info": {
   "codemirror_mode": {
    "name": "ipython",
    "version": 3
   },
   "file_extension": ".py",
   "mimetype": "text/x-python",
   "name": "python",
   "nbconvert_exporter": "python",
   "pygments_lexer": "ipython3",
   "version": "3.11.4"
  }
 },
 "nbformat": 4,
 "nbformat_minor": 2
}
